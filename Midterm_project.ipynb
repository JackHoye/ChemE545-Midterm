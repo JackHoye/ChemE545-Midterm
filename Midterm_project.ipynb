{
 "cells": [
  {
   "cell_type": "markdown",
   "id": "0e82335b-2ab7-436c-bdd5-eb17e9f986da",
   "metadata": {},
   "source": [
    "# CHEM E 545: Midterm Project (60 points)"
   ]
  },
  {
   "cell_type": "markdown",
   "id": "84356892-e403-412c-9031-7153a2b4e2d8",
   "metadata": {},
   "source": [
    "In this project, we want to predict biodegradibility of different compounds. Supervised Machine Learning (SML) is an important tool that can take into account multiple attributes about a compound including its chemical structure and predict its biodegradability in the environment. SML models can help in figuring out which chemicals are going to be environment friendly helping in making responsible choices during chemical selection for different processes/products.\n",
    "\n",
    "In this project, wherever you need to use a random_state/seed use the number 100. All plots should have title and labels "
   ]
  },
  {
   "cell_type": "markdown",
   "id": "058b50bb-e73e-425f-a15a-90be0e5a1073",
   "metadata": {},
   "source": [
    "## Part (a): Regression Task "
   ]
  },
  {
   "cell_type": "markdown",
   "id": "b4fc632b-3b00-4dfe-8f93-9a112cbaefbd",
   "metadata": {},
   "source": [
    "###  Data Preparation: (15 points)\n",
    "Load the data file. Your data contains a feature called as 'Smiles'. The simplified molecular-input line-entry system (SMILES) is a specification in the form of a line notation for describing the structure of chemical species using short ASCII strings. You can read more [here](https://en.wikipedia.org/wiki/Simplified_molecular-input_line-entry_system). \n",
    "\n",
    "We want to convert this string to actual molecular descriptors. <b> Hint </b>: You will have a total of 209 descriptors for each Smiles string. You can do that by using [rdkit](https://www.rdkit.org/) package and its descriptors. You can import these as follows:\n"
   ]
  },
  {
   "cell_type": "code",
   "execution_count": null,
   "id": "893c5f80-49ad-499a-9fdf-f42b6f9edeb3",
   "metadata": {},
   "outputs": [],
   "source": [
    "!pip install rdkit\n",
    "import rdkit\n",
    "from rdkit import Chem\n",
    "from rdkit.Chem import Descriptors"
   ]
  },
  {
   "cell_type": "markdown",
   "id": "0970566d-f57d-44fd-a56d-b8da07519aec",
   "metadata": {},
   "source": [
    "Other than smiles, your dataset has 5 other features and one target/output variable (biodegradation percentage). You are trying to build a model using all the features to predict the percentage biodegradation. Therefore, combine the 209 descriptors  with the 5 remaining features from your dataset. Next, remove any rows that contains NaNs. Finally, remove any feature that still contains a smiles string and the feature 'Ipc'. "
   ]
  },
  {
   "cell_type": "code",
   "execution_count": 3,
   "id": "98f48f25-5436-45b8-9ae9-e7f94885d1dc",
   "metadata": {
    "tags": []
   },
   "outputs": [],
   "source": [
    "# print the shape of your resultant x(input) and y (output) data "
   ]
  },
  {
   "cell_type": "markdown",
   "id": "03143cb5-ff75-4b55-af4a-c8eee3a37fcb",
   "metadata": {},
   "source": [
    "###  Model Developement and Testing: (15 points)\n",
    "\n",
    "Implement linear regression using your data. Plot the boxplot of R2 values for a test split of [0.4,0.35,0.3,0.25,0.2,0.1]. Also plot your predicted and actual values as a scatter plot at the test split of 0.1. "
   ]
  },
  {
   "cell_type": "code",
   "execution_count": null,
   "id": "352543d5-7ce1-4e32-bb01-b643e9a3943f",
   "metadata": {},
   "outputs": [],
   "source": []
  },
  {
   "cell_type": "markdown",
   "id": "0362d7dd-81f4-46e8-ba22-daa35acc915a",
   "metadata": {},
   "source": [
    "### Something New (5 points)\n",
    "\n",
    "Implement any regression model of your choice that we haven't learnt in the class. Print the R2 value"
   ]
  },
  {
   "cell_type": "code",
   "execution_count": null,
   "id": "352c58e1-93a0-4adc-845b-f2b6d3caeee0",
   "metadata": {},
   "outputs": [],
   "source": [
    "#Implement a new regression algorithm of your choice here"
   ]
  },
  {
   "cell_type": "markdown",
   "id": "ac56b639-081d-44ae-8bcc-dccfd0700fa7",
   "metadata": {},
   "source": [
    "## Part (b): Classification Task \n"
   ]
  },
  {
   "cell_type": "markdown",
   "id": "e29539e4-ce87-4b51-a037-f677810cf979",
   "metadata": {},
   "source": [
    "### Data Preparation (5 points)\n",
    "Load the data file. Your data contains a feature called as 'Smiles'. Use the same code as before to convert it into actual molecular descriptors. <b> Hint </b>: You will have a total of 209 descriptors for each Smiles string. Next, remove any rows that contains NaNs. Finally, remove any feature that still contains a smiles string and the feature 'Ipc'. Class labels of 0 and 1 are also provided in the data file. "
   ]
  },
  {
   "cell_type": "code",
   "execution_count": 5,
   "id": "3ba5d023-337e-4929-9f49-c2a31ebc5f15",
   "metadata": {
    "tags": []
   },
   "outputs": [],
   "source": [
    "# print the shape of your resultant x(input) and y (output) data "
   ]
  },
  {
   "cell_type": "markdown",
   "id": "8f24f40c-f6fb-41cc-878b-dfad4888d821",
   "metadata": {},
   "source": [
    "###  Model Developement and Testing: (15 points)\n",
    "\n",
    "Implement Logistic Regression. Do you notice something when you use the default solver? Use the solver 'newton-cholesky' to see if the issue resolves. Why could this be happening? Print the test accuracy and the confusion matrix for the test data. Use a test split of 0.2"
   ]
  },
  {
   "cell_type": "code",
   "execution_count": null,
   "id": "57f6e009-e0bc-4dd1-826c-d1394ca89d43",
   "metadata": {},
   "outputs": [],
   "source": []
  },
  {
   "cell_type": "markdown",
   "id": "239aca7d-d53b-48de-9fa2-aabd54398033",
   "metadata": {},
   "source": [
    "### Something New (5 points)\n",
    "Plot the ROC curve using the test data for the logistic regression model implemented above"
   ]
  },
  {
   "cell_type": "code",
   "execution_count": null,
   "id": "a3b298b7-5b47-4754-9a4c-4a9bc2706cf0",
   "metadata": {},
   "outputs": [],
   "source": []
  }
 ],
 "metadata": {
  "kernelspec": {
   "display_name": "Python 3 (ipykernel)",
   "language": "python",
   "name": "python3"
  },
  "language_info": {
   "codemirror_mode": {
    "name": "ipython",
    "version": 3
   },
   "file_extension": ".py",
   "mimetype": "text/x-python",
   "name": "python",
   "nbconvert_exporter": "python",
   "pygments_lexer": "ipython3",
   "version": "3.10.10"
  }
 },
 "nbformat": 4,
 "nbformat_minor": 5
}
